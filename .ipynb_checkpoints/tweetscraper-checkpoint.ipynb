{
 "cells": [
  {
   "cell_type": "code",
   "execution_count": 4,
   "metadata": {},
   "outputs": [],
   "source": [
    "import tweepy #https://github.com/tweepy/tweepy\n",
    "import csv\n",
    "import time\n",
    "from twitter_keys import consumer_key, consumer_secret, access_token, access_secret\n",
    "#authorize twitter, initialize tweepy\n",
    "auth = tweepy.OAuthHandler(consumer_key, consumer_secret)\n",
    "auth.set_access_token(access_token, access_secret)\n",
    "api = tweepy.API(auth)"
   ]
  },
  {
   "cell_type": "code",
   "execution_count": 8,
   "metadata": {},
   "outputs": [],
   "source": [
    "def get_all_tweets(screen_name):\n",
    "    #counter to keep track of requests to avoid time out\n",
    "    counter = 0\n",
    "    #initialize a list to hold all the tweepy Tweets\n",
    "    alltweets = []\n",
    "    \n",
    "    #make initial request for most recent tweets\n",
    "    new_tweets = api.user_timeline(screen_name = screen_name ,count=200)\n",
    "    \n",
    "    #save most recent tweets\n",
    "    alltweets.extend(new_tweets)\n",
    "\n",
    "    #save the id of the oldest tweet less one\n",
    "    oldest = alltweets[-1].id - 1\n",
    "    \n",
    "    #keep grabbing tweets until there are no tweets left to grab\n",
    "    while len(new_tweets) > 0:\n",
    "        print(\"getting tweets before: \" + str(oldest))\n",
    "        \n",
    "        #waits for 30 min after 10 requests\n",
    "        if counter == 10:\n",
    "            time.sleep(1800)\n",
    "            counter = 0\n",
    "        \n",
    "        #all subsiquent requests use the max_id param to prevent duplicates\n",
    "        new_tweets = api.user_timeline(screen_name = screen_name,count=200,max_id=oldest)\n",
    "        counter = counter + 1\n",
    "        \n",
    "        #save most recent tweets\n",
    "        alltweets.extend(new_tweets)\n",
    "\n",
    "        #update the id of the oldest tweet less one\n",
    "        oldest = alltweets[-1].id - 1\n",
    "\n",
    "        print(str(len(alltweets))+\" tweets downloaded\")\n",
    "    \n",
    "    #transform the tweepy tweets into a 2D array that will populate the csv\t\n",
    "    tweetarray = [[tweet.source, tweet.text.encode(\"utf-8\"), tweet.created_at, tweet.retweet_count, tweet.favorite_count, tweet.id_str] for tweet in alltweets]\n",
    "    \n",
    "    #write the csv\t\n",
    "    with open('tweetstore_2014_2019.txt', 'wb') as f:\n",
    "        writer = csv.writer(f)\n",
    "        writer.writerow([\"source\",\"text\",\"created_at\",\"retweet_count\",\"favorite_count\",\"is_retweet\",\"id_str\"])\n",
    "        writer.writerows(tweetarray)\n",
    "    \n",
    "    pass\n",
    "    "
   ]
  }
 ],
 "metadata": {
  "kernelspec": {
   "display_name": "Python 3",
   "language": "python",
   "name": "python3"
  },
  "language_info": {
   "codemirror_mode": {
    "name": "ipython",
    "version": 3
   },
   "file_extension": ".py",
   "mimetype": "text/x-python",
   "name": "python",
   "nbconvert_exporter": "python",
   "pygments_lexer": "ipython3",
   "version": "3.7.3"
  }
 },
 "nbformat": 4,
 "nbformat_minor": 2
}
